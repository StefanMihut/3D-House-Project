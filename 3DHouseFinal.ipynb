{
 "cells": [
  {
   "cell_type": "code",
   "execution_count": 145,
   "id": "432a607b",
   "metadata": {},
   "outputs": [],
   "source": [
    "import geopandas as gpd\n",
    "from shapely.geometry import Polygon\n",
    "import rasterio as rio # open Tif Files\n",
    "import os\n",
    "#import earthpy.plot as ep\n",
    "import plotly.graph_objects as go\n",
    "import matplotlib.pyplot as plt\n",
    "#%matplotlib inline\n",
    "from plotly.offline import download_plotlyjs, init_notebook_mode, plot\n",
    "from plotly.graph_objs import *\n",
    "from rasterio.plot import show\n",
    "from rasterio.mask import mask\n",
    "\n",
    "import requests\n",
    "import json"
   ]
  },
  {
   "cell_type": "code",
   "execution_count": 146,
   "id": "aab36ca2",
   "metadata": {},
   "outputs": [
    {
     "name": "stdout",
     "output_type": "stream",
     "text": [
      "Street name: Sint-Pietersvliet\n"
     ]
    }
   ],
   "source": [
    "street_name = input(\"Street name: \")"
   ]
  },
  {
   "cell_type": "code",
   "execution_count": null,
   "id": "ff05b8e7",
   "metadata": {},
   "outputs": [],
   "source": [
    "house_number = int(input(\"House number: \"))"
   ]
  },
  {
   "cell_type": "code",
   "execution_count": null,
   "id": "b90fe16c",
   "metadata": {},
   "outputs": [],
   "source": [
    "post_code = int(input(\"Post code: \"))"
   ]
  },
  {
   "cell_type": "code",
   "execution_count": null,
   "id": "97b1691d",
   "metadata": {},
   "outputs": [],
   "source": [
    "address = requests.get(\"https://api.basisregisters.vlaanderen.be/v1/adresmatch\",\n",
    "                     params={\"postcode\": post_code, \"straatnaam\": street_name, \"huisnummer\":house_number})\n",
    "request = json.loads(address.content)"
   ]
  },
  {
   "cell_type": "code",
   "execution_count": null,
   "id": "8e95ed62",
   "metadata": {},
   "outputs": [],
   "source": [
    "objectid = request['adresMatches'][0]['adresseerbareObjecten'][0]['objectId']"
   ]
  },
  {
   "cell_type": "code",
   "execution_count": null,
   "id": "57133f6c",
   "metadata": {},
   "outputs": [],
   "source": [
    "building_cordinate = request['adresMatches'][0]['adresPositie']['point']['coordinates']\n",
    "#building_cordinate"
   ]
  },
  {
   "cell_type": "code",
   "execution_count": null,
   "id": "e98fa76e",
   "metadata": {},
   "outputs": [],
   "source": [
    "request = requests.get(f\"https://api.basisregisters.vlaanderen.be/v1/gebouweenheden/{objectid}\")\n",
    "building_unit = json.loads(request.content)"
   ]
  },
  {
   "cell_type": "code",
   "execution_count": null,
   "id": "a0e62858",
   "metadata": {},
   "outputs": [],
   "source": [
    "building_id =  building_unit[\"gebouw\"][\"objectId\"]\n",
    "#building_id"
   ]
  },
  {
   "cell_type": "code",
   "execution_count": null,
   "id": "04b246c9",
   "metadata": {},
   "outputs": [],
   "source": [
    "request = requests.get(f\"https://api.basisregisters.vlaanderen.be/v1/gebouwen/{building_id}\")\n",
    "building_unit_request = json.loads(request.content)\n",
    "#building_unit_request"
   ]
  },
  {
   "cell_type": "code",
   "execution_count": null,
   "id": "46edf214",
   "metadata": {},
   "outputs": [],
   "source": [
    "bounds_api = building_unit_request['geometriePolygoon'].get('polygon')"
   ]
  },
  {
   "cell_type": "code",
   "execution_count": null,
   "id": "fb4e3b08",
   "metadata": {},
   "outputs": [],
   "source": [
    "#poly = Polygon(cordinates[0])\n",
    "#poly"
   ]
  },
  {
   "cell_type": "code",
   "execution_count": null,
   "id": "55cfd273",
   "metadata": {},
   "outputs": [],
   "source": [
    "dsm_tiff = rio.open(\"C:\\BecodeTheano4\\Assets\\DSM\\GeoTIFF\\DHMVIIDSMRAS1m_k15.tif\")"
   ]
  },
  {
   "cell_type": "code",
   "execution_count": null,
   "id": "aa3d57e3",
   "metadata": {},
   "outputs": [],
   "source": [
    "dtm_tiff = rio.open(\"C:\\BecodeTheano4\\Assets\\DTM\\GeoTIFF\\DHMVIIDTMRAS1m_k15.tif\")"
   ]
  },
  {
   "cell_type": "code",
   "execution_count": null,
   "id": "ba4bcdbb",
   "metadata": {},
   "outputs": [],
   "source": [
    "with dsm_tiff as src:\n",
    "    tif15_image_DSM, out_transform = rio.mask.mask(src, [bounds_api], crop=True)\n",
    "    DSM=tif15_image_DSM[0]"
   ]
  },
  {
   "cell_type": "code",
   "execution_count": null,
   "id": "3691cc5d",
   "metadata": {},
   "outputs": [],
   "source": [
    "with dtm_tiff as src:\n",
    "    tif15_image_DTM, out_transform = rio.mask.mask(src, [bounds_api], crop=True)\n",
    "    DTM=tif15_image_DTM[0]"
   ]
  },
  {
   "cell_type": "code",
   "execution_count": null,
   "id": "eafc355b",
   "metadata": {},
   "outputs": [],
   "source": [
    "CHM_15= DSM-DTM"
   ]
  },
  {
   "cell_type": "code",
   "execution_count": null,
   "id": "b3179ccc",
   "metadata": {},
   "outputs": [],
   "source": [
    "#ep.plot_bands(CHM_15, cmap='terrain')"
   ]
  },
  {
   "cell_type": "code",
   "execution_count": null,
   "id": "92932978",
   "metadata": {},
   "outputs": [],
   "source": [
    "fig = go.Figure(data=go.Surface(z=CHM_15))\n",
    "fig.show()"
   ]
  },
  {
   "cell_type": "code",
   "execution_count": null,
   "id": "e6f01967",
   "metadata": {},
   "outputs": [],
   "source": []
  }
 ],
 "metadata": {
  "kernelspec": {
   "display_name": "Python 3 (ipykernel)",
   "language": "python",
   "name": "python3"
  },
  "language_info": {
   "codemirror_mode": {
    "name": "ipython",
    "version": 3
   },
   "file_extension": ".py",
   "mimetype": "text/x-python",
   "name": "python",
   "nbconvert_exporter": "python",
   "pygments_lexer": "ipython3",
   "version": "3.9.13"
  }
 },
 "nbformat": 4,
 "nbformat_minor": 5
}
