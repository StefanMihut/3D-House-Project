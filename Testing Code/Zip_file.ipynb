{
 "cells": [
  {
   "cell_type": "code",
   "execution_count": null,
   "id": "1d3435ba",
   "metadata": {},
   "outputs": [],
   "source": [
    "from urllib.request import urlopen\n",
    "import urllib.request\n",
    "from zipfile import ZipFile\n",
    "import os, zipfile"
   ]
  },
  {
   "cell_type": "code",
   "execution_count": null,
   "id": "45f7f2ba",
   "metadata": {},
   "outputs": [],
   "source": []
  },
  {
   "cell_type": "code",
   "execution_count": null,
   "id": "5fc2922c",
   "metadata": {},
   "outputs": [],
   "source": [
    "temporary_dir = [\"DSM\", \"DTM\"]\n",
    "\n",
    "for dirt in temporary_dir:\n",
    "    if not os.path.exists(dirt):\n",
    "        os.makedirs(dirt)\n",
    "\n",
    "for i in range(2):\n",
    "    download_files = os.listdir(temporary_dir[i])\n",
    "    download_files = [i[-6:-4] for i in download_files]\n",
    "    \n",
    "    list_number = ['0'+str(x) if len(str(x))==1 else str(x) for x in range(1,44)]\n",
    "    \n",
    "    for j in download_files:\n",
    "        if j in list_number:\n",
    "            list_number.remove(j)\n",
    "            \n",
    "    folder_name = temporary_dir[i]\n",
    "    \n",
    "    for number in list_number:\n",
    "        if folder_name == \"DSM\":\n",
    "            url = f\"https://downloadagiv.blob.core.windows.net/dhm-vlaanderen-ii-dsm-raster-1m/DHMVIIDSMRAS1m_k{number}.zip\"\n",
    "        else:\n",
    "            url = f\"https://downloadagiv.blob.core.windows.net/dhm-vlaanderen-ii-dtm-raster-1m/DHMVIIDTMRAS1m_k{number}.zip\"\n",
    "            \n",
    "        file_name = url.split(\"/\")[-1]\n",
    "        \n",
    "        urllib.request.urlretrieve(url,f\"./{folder_name}/{file_name}\")\n",
    "        \n",
    "    for folder in temp_dir:\n",
    "        dir_name = os.getcwd()+f\"\\\\{folder}\"\n",
    "        extension = \".zip\"\n",
    "        \n",
    "        for item in os.listdir(dir_name):\n",
    "            if iteme.endswith(extension):\n",
    "                file_name = os.path.abspath(item)\n",
    "                zip_ref = zipfile.ZipFile(file_name)\n",
    "                zip_ref.extractall(dir_name)\n",
    "                zip_ref.close()\n",
    "                os.remove(file_name)\n",
    "                \n"
   ]
  },
  {
   "cell_type": "code",
   "execution_count": null,
   "id": "1ab3064a",
   "metadata": {},
   "outputs": [],
   "source": []
  }
 ],
 "metadata": {
  "kernelspec": {
   "display_name": "Python 3 (ipykernel)",
   "language": "python",
   "name": "python3"
  },
  "language_info": {
   "codemirror_mode": {
    "name": "ipython",
    "version": 3
   },
   "file_extension": ".py",
   "mimetype": "text/x-python",
   "name": "python",
   "nbconvert_exporter": "python",
   "pygments_lexer": "ipython3",
   "version": "3.9.13"
  }
 },
 "nbformat": 4,
 "nbformat_minor": 5
}
