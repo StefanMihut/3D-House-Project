{
 "cells": [
  {
   "cell_type": "code",
   "execution_count": 1,
   "id": "204066fe",
   "metadata": {},
   "outputs": [],
   "source": [
    "import requests\n",
    "import json"
   ]
  },
  {
   "cell_type": "code",
   "execution_count": 2,
   "id": "5de31aba",
   "metadata": {},
   "outputs": [
    {
     "name": "stdout",
     "output_type": "stream",
     "text": [
      "postcode: 1500\n"
     ]
    }
   ],
   "source": [
    "city_postcode=input(\"postcode: \")"
   ]
  },
  {
   "cell_type": "code",
   "execution_count": 3,
   "id": "b644d441",
   "metadata": {},
   "outputs": [
    {
     "data": {
      "text/plain": [
       "{'validationErrors': {'': [{'code': '16',\n",
       "    'reason': \"Gelieve minstens één van de volgende velden op te geven: 'KadStraatcode', 'RrStraatcode', 'Straatnaam'.\"}]},\n",
       " 'type': 'urn:be.vlaanderen.basisregisters.api:validation',\n",
       " 'title': 'Er heeft zich een fout voorgedaan!',\n",
       " 'detail': 'Validatie mislukt!',\n",
       " 'status': 400,\n",
       " 'instance': 'https://api.basisregisters.vlaanderen.be/v1/foutmeldingen/05e6a9f4673d572a9e4fa5f81c812dfb'}"
      ]
     },
     "execution_count": 3,
     "metadata": {},
     "output_type": "execute_result"
    }
   ],
   "source": [
    "r = requests.get(\"https://api.basisregisters.vlaanderen.be/v1/adresmatch\", params={\"postcode\":city_postcode})\n",
    "json_test = json.loads(r.content)\n",
    "json_test"
   ]
  },
  {
   "cell_type": "code",
   "execution_count": null,
   "id": "f9336a0c",
   "metadata": {},
   "outputs": [],
   "source": []
  }
 ],
 "metadata": {
  "kernelspec": {
   "display_name": "Python 3 (ipykernel)",
   "language": "python",
   "name": "python3"
  },
  "language_info": {
   "codemirror_mode": {
    "name": "ipython",
    "version": 3
   },
   "file_extension": ".py",
   "mimetype": "text/x-python",
   "name": "python",
   "nbconvert_exporter": "python",
   "pygments_lexer": "ipython3",
   "version": "3.9.13"
  }
 },
 "nbformat": 4,
 "nbformat_minor": 5
}
