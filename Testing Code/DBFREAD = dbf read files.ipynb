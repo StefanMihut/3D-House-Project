{
 "cells": [
  {
   "cell_type": "code",
   "execution_count": 8,
   "id": "2751f135",
   "metadata": {},
   "outputs": [],
   "source": [
    "from dbfread import DBF"
   ]
  },
  {
   "cell_type": "code",
   "execution_count": 12,
   "id": "625cea42",
   "metadata": {},
   "outputs": [
    {
     "name": "stdout",
     "output_type": "stream",
     "text": [
      "OrderedDict([('Id', 0), ('OpnDatum1', datetime.date(2013, 2, 20)), ('OpnDatum2', None)])\n",
      "OrderedDict([('Id', 0), ('OpnDatum1', datetime.date(2013, 4, 1)), ('OpnDatum2', None)])\n",
      "OrderedDict([('Id', 0), ('OpnDatum1', datetime.date(2013, 2, 20)), ('OpnDatum2', datetime.date(2013, 4, 1))])\n"
     ]
    }
   ],
   "source": [
    "for reccord in DBF(\"C:\\BecodeTheano4\\Assets\\DTM\\DHMVII_vdc_k01.dbf\"):\n",
    "    print(reccord)\n"
   ]
  },
  {
   "cell_type": "code",
   "execution_count": null,
   "id": "231710cb",
   "metadata": {},
   "outputs": [],
   "source": []
  }
 ],
 "metadata": {
  "kernelspec": {
   "display_name": "Python 3 (ipykernel)",
   "language": "python",
   "name": "python3"
  },
  "language_info": {
   "codemirror_mode": {
    "name": "ipython",
    "version": 3
   },
   "file_extension": ".py",
   "mimetype": "text/x-python",
   "name": "python",
   "nbconvert_exporter": "python",
   "pygments_lexer": "ipython3",
   "version": "3.9.13"
  }
 },
 "nbformat": 4,
 "nbformat_minor": 5
}
